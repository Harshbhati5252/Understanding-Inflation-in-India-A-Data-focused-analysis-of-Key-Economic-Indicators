{
 "cells": [
  {
   "cell_type": "markdown",
   "id": "803c7847",
   "metadata": {},
   "source": [
    "# Inflation Analysis in India (2010–2030)\n",
    "\n",
    "This notebook compares actual vs predicted inflation using linear regression on economic indicators. It includes analysis of real data from 2010–2023 and forecasted data from 2025–2030."
   ]
  },
  {
   "cell_type": "code",
   "execution_count": null,
   "id": "85c9bba8",
   "metadata": {},
   "outputs": [],
   "source": [
    "import pandas as pd\n",
    "import matplotlib.pyplot as plt\n",
    "import seaborn as sns\n",
    "from sklearn.linear_model import LinearRegression\n",
    "from sklearn.metrics import r2_score"
   ]
  },
  {
   "cell_type": "code",
   "execution_count": null,
   "id": "d8cd557d",
   "metadata": {},
   "outputs": [],
   "source": [
    "raw_df = pd.read_excel('raw_data_2010_2023.xlsx')\n",
    "raw_df['Date'] = pd.to_datetime(raw_df['Date'])\n",
    "forecast_df = pd.read_excel('forecast_data_2025_2030.xlsx')\n",
    "forecast_df['Date'] = pd.to_datetime(forecast_df['Date'])"
   ]
  },
  {
   "cell_type": "markdown",
   "id": "4fd0c851",
   "metadata": {},
   "source": [
    "# Actual vs Predicted Inflation (2010–2023)"
   ]
  },
  {
   "cell_type": "code",
   "execution_count": null,
   "id": "db566b13",
   "metadata": {},
   "outputs": [],
   "source": [
    "plt.figure(figsize=(12, 5))\n",
    "plt.plot(raw_df['Date'], raw_df['Inflation (%)'], label='Actual Inflation (%)', color='black')\n",
    "plt.plot(raw_df['Date'], raw_df['Predicted Inflation (%)'], label='Predicted Inflation (%)', linestyle='--', color='blue')\n",
    "plt.title('Actual vs Predicted Inflation (2010–2023)')\n",
    "plt.xlabel('Year')\n",
    "plt.ylabel('Inflation Rate (%)')\n",
    "plt.legend()\n",
    "plt.grid(True)\n",
    "plt.tight_layout()\n",
    "plt.show()"
   ]
  },
  {
   "cell_type": "markdown",
   "id": "b46b7118",
   "metadata": {},
   "source": [
    "# Inflation Forecast (2025–2030)"
   ]
  },
  {
   "cell_type": "code",
   "execution_count": null,
   "id": "a7be8c27",
   "metadata": {},
   "outputs": [],
   "source": [
    "plt.figure(figsize=(12, 5))\n",
    "plt.plot(forecast_df['Date'], forecast_df['Predicted Inflation (%)'], marker='o', label='Forecasted Inflation (%)', color='green')\n",
    "plt.title('Inflation Forecast (2025–2030)')\n",
    "plt.xlabel('Year')\n",
    "plt.ylabel('Predicted Inflation (%)')\n",
    "plt.grid(True)\n",
    "plt.tight_layout()\n",
    "plt.legend()\n",
    "plt.show()"
   ]
  },
  {
   "cell_type": "markdown",
   "id": "549ee0ef",
   "metadata": {},
   "source": [
    "# Correlation Matrix of Raw Data"
   ]
  },
  {
   "cell_type": "code",
   "execution_count": null,
   "id": "18d50516",
   "metadata": {},
   "outputs": [],
   "source": [
    "plt.figure(figsize=(8, 6))\n",
    "sns.heatmap(raw_df.drop(columns=['Date']).corr(), annot=True, cmap='YlOrRd')\n",
    "plt.title('Correlation Matrix (Raw Data)')\n",
    "plt.tight_layout()\n",
    "plt.show()"
   ]
  },
  {
   "cell_type": "markdown",
   "id": "ff94d5ed",
   "metadata": {},
   "source": [
    "#� Indicator Trends Over Time"
   ]
  },
  {
   "cell_type": "code",
   "execution_count": null,
   "id": "f3e2030b",
   "metadata": {},
   "outputs": [],
   "source": [
    "plt.figure(figsize=(14, 6))\n",
    "plt.plot(raw_df['Date'], raw_df['Crude Oil Price (USD)'], label='Oil Price (USD)')\n",
    "plt.plot(raw_df['Date'], raw_df['Food Price Index'], label='Food Price Index')\n",
    "plt.plot(raw_df['Date'], raw_df['INR/USD Exchange Rate'], label='INR/USD')\n",
    "plt.title('Economic Indicators Over Time (2010–2023)')\n",
    "plt.xlabel('Date')\n",
    "plt.ylabel('Value')\n",
    "plt.legend()\n",
    "plt.grid(True)\n",
    "plt.tight_layout()\n",
    "plt.show()"
   ]
  },
  {
   "cell_type": "markdown",
   "id": "b2e35d78",
   "metadata": {},
   "source": [
    "# Model Evaluation (Linear Regression)"
   ]
  },
  {
   "cell_type": "code",
   "execution_count": null,
   "id": "64382449",
   "metadata": {},
   "outputs": [],
   "source": [
    "X = raw_df[['Crude Oil Price (USD)', 'Food Price Index', 'INR/USD Exchange Rate']]\n",
    "y = raw_df['Inflation (%)']\n",
    "model = LinearRegression().fit(X, y)\n",
    "y_pred = model.predict(X)\n",
    "print('R² Score:', r2_score(y, y_pred))"
   ]
  }
 ],
 "metadata": {},
 "nbformat": 4,
 "nbformat_minor": 5
}
