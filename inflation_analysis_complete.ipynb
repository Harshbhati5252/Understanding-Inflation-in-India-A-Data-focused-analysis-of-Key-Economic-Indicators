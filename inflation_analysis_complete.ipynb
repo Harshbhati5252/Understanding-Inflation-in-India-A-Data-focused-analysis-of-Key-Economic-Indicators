{
 "cells": [
  {
   "cell_type": "markdown",
   "id": "803c7847",
   "metadata": {},
   "source": [
    "# India Inflation Analysis - Trying to predict the unpredictable\n",
    "\n",
    "Attempting to model India's inflation using some basic economic indicators. Using data from 2010-2023 to train a linear regression model (probably too simple but let's see) and then forecasting to 2030.\n",
    "\n",
    "**Warning:** The 2020-2021 period is going to mess with our model big time due to COVID disruptions."
   ]
  },
  {
   "cell_type": "code",
   "execution_count": null,
   "id": "85c9bba8",
   "metadata": {},
   "outputs": [],
   "source": [
    "import pandas as pd\n",
    "import matplotlib.pyplot as plt\n",
    "import seaborn as sns\n",
    "from sklearn.linear_model import LinearRegression\n",
    "from sklearn.metrics import r2_score\n",
    "import numpy as np  # might need this for some calculations\n",
    "# from sklearn.preprocessing import StandardScaler  # keeping this handy in case\n",
    "\n",
    "# THE PLOTS ARE LOOKING DECENT\n",
    "plt.style.use('default')\n",
    "sns.set_palette(\"husl\")"
   ]
  },
  {
   "cell_type": "code",
   "execution_count": null,
   "id": "d8cd557d",
   "metadata": {},
   "outputs": [],
   "source": [
    "# Loading the historical data - hope the Excel files aren't corrupted\n",
    "india_inflation_data = pd.read_excel('raw_data_2010_2023.xlsx')\n",
    "india_inflation_data['Date'] = pd.to_datetime(india_inflation_data['Date'])\n",
    "\n",
    "# Forecast data - not sure how reliable these predictions are but lets start with what we have\n",
    "future_predictions = pd.read_excel('forecast_data_2025_2030.xlsx')\n",
    "future_predictions['Date'] = pd.to_datetime(future_predictions['Date'])"
   ]
  },
  {
   "cell_type": "code",
   "execution_count": null,
   "id": "data_check",
   "metadata": {},
   "outputs": [],
   "source": [
    "# Quick checing on the data\n",
    "print(f\"Historical data shape: {india_inflation_data.shape}\")\n",
    "print(f\"Any missing values? {india_inflation_data.isnull().sum().sum()}\")\n",
    "print(\"\\nFirst few rows:\")\n",
    "india_inflation_data.head()"
   ]
  },
  {
   "cell_type": "code",
   "execution_count": null,
   "id": "basic_stats",
   "metadata": {},
   "outputs": [],
   "source": [
    "# Let's see the range of our inflation data\n",
    "print(\"Inflation stats (2010-2023):\")\n",
    "print(f\"Min: {india_inflation_data['Inflation (%)'].min():.2f}%\")\n",
    "print(f\"Max: {india_inflation_data['Inflation (%)'].max():.2f}%\")\n",
    "print(f\"Average: {india_inflation_data['Inflation (%)'].mean():.2f}%\")\n",
    "print(f\"Std Dev: {india_inflation_data['Inflation (%)'].std():.2f}%\")"
   ]
  },
  {
   "cell_type": "markdown",
   "id": "4fd0c851",
   "metadata": {},
   "source": [
    "## How well did our model do? (Actual vs Predicted 2010-2023)"
   ]
  },
  {
   "cell_type": "code",
   "execution_count": null,
   "id": "db566b13",
   "metadata": {},
   "outputs": [],
   "source": [
    "fig, ax = plt.subplots(figsize=(14, 6))\n",
    "\n",
    "# Plot actual inflation with a thicker line since it's the real deal\n",
    "ax.plot(india_inflation_data['Date'], india_inflation_data['Inflation (%)'], \n",
    "        label='Actual Inflation', color='darkred', linewidth=2.5)\n",
    "\n",
    "# Model predictions should be more subdued since they're just estimates\n",
    "ax.plot(india_inflation_data['Date'], india_inflation_data['Predicted Inflation (%)'], \n",
    "        label='Model Predictions', linestyle='--', color='steelblue', linewidth=2, alpha=0.8)\n",
    "\n",
    "ax.set_title('Actual vs Predicted Inflation (2010-2023) - Linear Regression Model', fontsize=14)\n",
    "ax.set_xlabel('Year')\n",
    "ax.set_ylabel('Inflation Rate (%)')\n",
    "ax.legend()\n",
    "ax.grid(True, alpha=0.3)\n",
    "\n",
    "# Highlight the COVID period\n",
    "ax.axvspan(pd.to_datetime('2020-01-01'), pd.to_datetime('2021-12-31'), \n",
    "           alpha=0.2, color='orange', label='COVID Period')\n",
    "\n",
    "plt.tight_layout()\n",
    "plt.show()"
   ]
  },
  {
   "cell_type": "markdown",
   "id": "b46b7118",
   "metadata": {},
   "source": [
    "## What we think might happen (2025-2030 Forecast)\n",
    "\n",
    "Take these predictions with a huge grain of salt - economic forecasting is notoriously difficult, especially 5+ years out."
   ]
  },
  {
   "cell_type": "code",
   "execution_count": null,
   "id": "a7be8c27",
   "metadata": {},
   "outputs": [],
   "source": [
    "plt.figure(figsize=(12, 6))\n",
    "\n",
    "# Using markers to show these are discrete predictions, not continuous data\n",
    "plt.plot(future_predictions['Date'], future_predictions['Predicted Inflation (%)'], \n",
    "         marker='o', markersize=6, label='Forecasted Inflation', \n",
    "         color='forestgreen', linewidth=2, linestyle='-')\n",
    "\n",
    "# Add some uncertainty visualization\n",
    "plt.fill_between(future_predictions['Date'], \n",
    "                future_predictions['Predicted Inflation (%)'] - 0.5,\n",
    "                future_predictions['Predicted Inflation (%)'] + 0.5,\n",
    "                alpha=0.2, color='forestgreen', label='Uncertainty Range (±0.5%)')\n",
    "\n",
    "plt.title('Inflation Forecast 2025-2030 (Proceed with Caution)', fontsize=14)\n",
    "plt.xlabel('Year')\n",
    "plt.ylabel('Predicted Inflation (%)')\n",
    "plt.grid(True, alpha=0.3)\n",
    "plt.legend()\n",
    "plt.tight_layout()\n",
    "plt.show()\n",
    "\n",
    "print(f\"Average predicted inflation (2025-2030): {future_predictions['Predicted Inflation (%)'].mean():.2f}%\")"
   ]
  },
  {
   "cell_type": "markdown",
   "id": "549ee0ef",
   "metadata": {},
   "source": [
    "## How do our economic indicators relate to each other?"
   ]
  },
  {
   "cell_type": "code",
   "execution_count": null,
   "id": "18d50516",
   "metadata": {},
   "outputs": [],
   "source": [
    "# Drop the date column and any non-numeric columns for correlation\n",
    "numeric_data = india_inflation_data.select_dtypes(include=[np.number])\n",
    "correlation_matrix = numeric_data.corr()\n",
    "\n",
    "plt.figure(figsize=(10, 8))\n",
    "# Tried coolwarm but YlOrRd looks better for this data\n",
    "sns.heatmap(correlation_matrix, annot=True, cmap='YlOrRd', fmt='.2f', \n",
    "            square=True, linewidths=0.5)\n",
    "plt.title('Correlation Matrix - How Economic Indicators Move Together', fontsize=14)\n",
    "plt.tight_layout()\n",
    "plt.show()\n",
    "\n",
    "# Let's see which factors correlate most with inflation\n",
    "inflation_corr = correlation_matrix['Inflation (%)'].sort_values(key=abs, ascending=False)\n",
    "print(\"\\nCorrelation with Inflation (strongest to weakest):\")\n",
    "for factor, corr in inflation_corr.items():\n",
    "    if factor != 'Inflation (%)':\n",
    "        print(f\"{factor}: {corr:.3f}\")"
   ]
  },
  {
   "cell_type": "markdown",
   "id": "ff94d5ed",
   "metadata": {},
   "source": [
    "## Economic Indicators Over Time - The Story Behind the Numbers"
   ]
  },
  {
   "cell_type": "code",
   "execution_count": null,
   "id": "f3e2030b",
   "metadata": {},
   "outputs": [],
   "source": [
    "fig, axes = plt.subplots(2, 2, figsize=(15, 10))\n",
    "fig.suptitle('Key Economic Indicators (2010-2023)', fontsize=16)\n",
    "\n",
    "# Oil prices - always volatile\n",
    "axes[0,0].plot(india_inflation_data['Date'], india_inflation_data['Crude Oil Price (USD)'], \n",
    "              color='black', linewidth=2)\n",
    "axes[0,0].set_title('Crude Oil Price (USD)')\n",
    "axes[0,0].grid(True, alpha=0.3)\n",
    "axes[0,0].set_ylabel('Price (USD)')\n",
    "\n",
    "# Food prices - critical for India\n",
    "axes[0,1].plot(india_inflation_data['Date'], india_inflation_data['Food Price Index'], \n",
    "              color='brown', linewidth=2)\n",
    "axes[0,1].set_title('Food Price Index')\n",
    "axes[0,1].grid(True, alpha=0.3)\n",
    "axes[0,1].set_ylabel('Index Value')\n",
    "\n",
    "# Exchange rate - rupee weakness = higher inflation usually\n",
    "axes[1,0].plot(india_inflation_data['Date'], india_inflation_data['INR/USD Exchange Rate'], \n",
    "              color='orange', linewidth=2)\n",
    "axes[1,0].set_title('INR/USD Exchange Rate')\n",
    "axes[1,0].grid(True, alpha=0.3)\n",
    "axes[1,0].set_ylabel('INR per USD')\n",
    "axes[1,0].set_xlabel('Year')\n",
    "\n",
    "# Inflation itself\n",
    "axes[1,1].plot(india_inflation_data['Date'], india_inflation_data['Inflation (%)'], \n",
    "              color='red', linewidth=2)\n",
    "axes[1,1].set_title('Inflation Rate')\n",
    "axes[1,1].grid(True, alpha=0.3)\n",
    "axes[1,1].set_ylabel('Inflation (%)')\n",
    "axes[1,1].set_xlabel('Year')\n",
    "\n",
    "plt.tight_layout()\n",
    "plt.show()"
   ]
  },
  {
   "cell_type": "markdown",
   "id": "b2e35d78",
   "metadata": {},
   "source": [
    "## Model Performance Check - How good is our simple linear regression?\n",
    "\n",
    "Spoiler alert: probably not great, but let's quantify it."
   ]
  },
  {
   "cell_type": "code",
   "execution_count": null,
   "id": "64382449",
   "metadata": {},
   "outputs": [],
   "source": [
    "# Define our features (predictors)\n",
    "feature_columns = ['Crude Oil Price (USD)', 'Food Price Index', 'INR/USD Exchange Rate']\n",
    "X = india_inflation_data[feature_columns]\n",
    "y = india_inflation_data['Inflation (%)']\n",
    "\n",
    "# Fit our basic linear model\n",
    "lr_model = LinearRegression()\n",
    "lr_model.fit(X, y)\n",
    "predictions = lr_model.predict(X)\n",
    "\n",
    "# Calculate performance metrics\n",
    "r2 = r2_score(y, predictions)\n",
    "mse = np.mean((y - predictions) ** 2)\n",
    "rmse = np.sqrt(mse)\n",
    "\n",
    "print(f\"Model Performance:\")\n",
    "print(f\"R² Score: {r2:.3f} ({r2*100:.1f}% of variance explained)\")\n",
    "print(f\"RMSE: {rmse:.3f} percentage points\")\n",
    "print(f\"Mean Absolute Error: {np.mean(np.abs(y - predictions)):.3f} percentage points\")\n",
    "\n",
    "print(\"\\nFeature Importance (coefficients):\")\n",
    "for feature, coef in zip(feature_columns, lr_model.coef_):\n",
    "    print(f\"{feature}: {coef:.4f}\")\n",
    "    \n",
    "print(f\"\\nIntercept: {lr_model.intercept_:.4f}\")"
   ]
  },
  {
   "cell_type": "code",
   "execution_count": null,
   "id": "residual_analysis",
   "metadata": {},
   "outputs": [],
   "source": [
    "# Let's look at prediction errors over time\n",
    "residuals = y - predictions\n",
    "\n",
    "plt.figure(figsize=(12, 5))\n",
    "plt.scatter(india_inflation_data['Date'], residuals, alpha=0.6, color='purple')\n",
    "plt.axhline(y=0, color='red', linestyle='--', alpha=0.7)\n",
    "plt.title('Model Residuals Over Time (Bigger dots = bigger errors)', fontsize=14)\n",
    "plt.xlabel('Year')\n",
    "plt.ylabel('Prediction Error (Actual - Predicted)')\n",
    "plt.grid(True, alpha=0.3)\n",
    "\n",
    "# Highlight periods with large errors\n",
    "large_errors = np.abs(residuals) > 2  # errors > 2 percentage points\n",
    "if large_errors.any():\n",
    "    error_dates = india_inflation_data['Date'][large_errors]\n",
    "    error_values = residuals[large_errors]\n",
    "    plt.scatter(error_dates, error_values, color='red', s=100, alpha=0.8, \n",
    "               label=f'Large Errors (>{2}pp)')\n",
    "    plt.legend()\n",
    "\n",
    "plt.tight_layout()\n",
    "plt.show()\n",
    "\n",
    "print(f\"Largest prediction error: {np.max(np.abs(residuals)):.2f} percentage points\")\n",
    "print(f\"Number of predictions off by >2pp: {np.sum(np.abs(residuals) > 2)}\")"
   ]
  },
  {
   "cell_type": "markdown",
   "id": "conclusions",
   "metadata": {},
   "source": [
    "## Key Takeaways and Issues\n",
    "\n",
    "**What worked:**\n",
    "- The model captures general trends reasonably well\n",
    "- Strong correlation between some economic indicators and inflation\n",
    "\n",
    "**What didn't work:**\n",
    "- Linear regression is probably too simple for this complex economic relationship\n",
    "- Missing crucial factors: monetary policy, GDP growth, supply chain disruptions\n",
    "- 2020-2021 COVID period messed up our predictions badly\n",
    "- Exchange rate and oil prices might have non-linear effects\n",
    "\n",
    "**Bottom line:** This model gives us a starting point, but I am not sure on these 2030 predictions!"
   ]
  }
 ],
 "metadata": {
  "kernelspec": {
   "display_name": "Python 3",
   "language": "python",
   "name": "python3"
  },
  "language_info": {
   "codemirror_mode": {
    "name": "ipython",
    "version": 3
   },
   "file_extension": ".py",
   "mimetype": "text/x-python",
   "name": "python",
   "nbconvert_exporter": "python",
   "pygments_lexer": "ipython3",
   "version": "3.8.5"
  }
 },
 "nbformat": 4,
 "nbformat_minor": 5
}
